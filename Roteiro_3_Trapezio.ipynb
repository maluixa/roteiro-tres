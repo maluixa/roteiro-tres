{
 "cells": [
  {
   "cell_type": "code",
   "execution_count": 5,
   "id": "85d8a215-4d6c-4827-a9e7-d1f1203d8109",
   "metadata": {},
   "outputs": [
    {
     "name": "stdout",
     "output_type": "stream",
     "text": [
      "O valor da integral é: 46.5\n"
     ]
    }
   ],
   "source": [
    "#etapa um\n",
    "\n",
    "x = [3, 6]\n",
    "h = x[1] - x[0]\n",
    "y = []\n",
    "\n",
    "for i in range(2):\n",
    "    fx = 3 * x[i] + 2\n",
    "    y.append(fx)\n",
    "\n",
    "A = h * (y[0] + y[1]) / 2\n",
    "print(\"O valor da integral é:\", A)\n",
    "\n"
   ]
  },
  {
   "cell_type": "code",
   "execution_count": null,
   "id": "db01ae61-f42d-48c2-b74b-d619e85ba612",
   "metadata": {},
   "outputs": [],
   "source": []
  }
 ],
 "metadata": {
  "kernelspec": {
   "display_name": "Python [conda env:base] *",
   "language": "python",
   "name": "conda-base-py"
  },
  "language_info": {
   "codemirror_mode": {
    "name": "ipython",
    "version": 3
   },
   "file_extension": ".py",
   "mimetype": "text/x-python",
   "name": "python",
   "nbconvert_exporter": "python",
   "pygments_lexer": "ipython3",
   "version": "3.12.7"
  }
 },
 "nbformat": 4,
 "nbformat_minor": 5
}
