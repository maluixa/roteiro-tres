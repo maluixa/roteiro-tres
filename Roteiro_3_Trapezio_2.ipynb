{
 "cells": [
  {
   "cell_type": "code",
   "execution_count": 1,
   "id": "804cc6f4-e602-42a4-879f-909507d6e787",
   "metadata": {},
   "outputs": [
    {
     "name": "stdout",
     "output_type": "stream",
     "text": [
      "O valor da integral pela fórmula composta é: 0.18234984365202583\n"
     ]
    }
   ],
   "source": [
    "#etapa dois\n",
    "\n",
    "import numpy as np\n",
    "\n",
    "a = 3.0\n",
    "b = 3.6\n",
    "n = 6\n",
    "h = (b - a) / n\n",
    "\n",
    "def f(x):\n",
    "    return 1 / x\n",
    "\n",
    "x = a\n",
    "funcao = f(x)\n",
    "area_total = 0\n",
    "i = 0\n",
    "\n",
    "while i < n:\n",
    "    x = x + h\n",
    "    y = f(x)\n",
    "    area_trapezio = ((funcao + y) / 2) * h\n",
    "    area_total = area_total + area_trapezio\n",
    "    funcao = y\n",
    "    i = i + 1\n",
    "\n",
    "print(\"O valor da integral pela fórmula composta é:\", area_total)\n",
    "\n"
   ]
  }
 ],
 "metadata": {
  "kernelspec": {
   "display_name": "Python [conda env:base] *",
   "language": "python",
   "name": "conda-base-py"
  },
  "language_info": {
   "codemirror_mode": {
    "name": "ipython",
    "version": 3
   },
   "file_extension": ".py",
   "mimetype": "text/x-python",
   "name": "python",
   "nbconvert_exporter": "python",
   "pygments_lexer": "ipython3",
   "version": "3.12.7"
  }
 },
 "nbformat": 4,
 "nbformat_minor": 5
}
