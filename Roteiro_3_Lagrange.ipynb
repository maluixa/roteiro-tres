{
 "cells": [
  {
   "cell_type": "code",
   "execution_count": 11,
   "id": "c21e2298-bc7c-4349-a1bd-2ff48b50f87c",
   "metadata": {},
   "outputs": [
    {
     "name": "stdout",
     "output_type": "stream",
     "text": [
      "Velocidade aproximada em t = 8,75s: 15.749999999999998 m/s\n"
     ]
    }
   ],
   "source": [
    "import numpy as np\n",
    "\n",
    "X = np.array([1.0, 4.0, 7.0, 10.0, 13.0])  #tempo\n",
    "Y = np.array([1.8, 7.2, 12.6, 18.0, 23.4])  #velocidade\n",
    "n = len(X)\n",
    "mt = 8.75\n",
    "\n",
    "#interpolação \n",
    "yp = 0\n",
    "for i in range(n):\n",
    "    p = 1\n",
    "    for j in range(n):\n",
    "        if j != i:\n",
    "            p *= (mt - X[j]) / (X[i] - X[j])\n",
    "    yp += p * Y[i]\n",
    "\n",
    "print(\"Velocidade aproximada em t = 8,75s:\", yp, \"m/s\")\n"
   ]
  },
  {
   "cell_type": "code",
   "execution_count": 12,
   "id": "4ffc7bfa-800f-4cfd-879e-2a1ffbda257a",
   "metadata": {},
   "outputs": [
    {
     "data": {
      "image/png": "[encoded data removed]",
      "text/plain": [
       "<Figure size 640x480 with 1 Axes>"
      ]
     },
     "metadata": {},
     "output_type": "display_data"
    },
    {
     "name": "stdout",
     "output_type": "stream",
     "text": [
      "Soma X: 35.0\n",
      "Soma Y: 63.0\n",
      "Soma X ao quadrado: 335.0\n",
      "Soma XY: 603.0\n",
      "Constante angular (aceleração): 1.8 m/s²\n",
      "Constante linear (velocidade inicial): 0.0 m/s\n"
     ]
    }
   ],
   "source": [
    "import numpy as np\n",
    "import matplotlib.pyplot as plt\n",
    "\n",
    "#dados\n",
    "X = np.array([1.0, 4.0, 7.0, 10.0, 13.0])\n",
    "Y = np.array([1.8, 7.2, 12.6, 18.0, 23.4])\n",
    "n = len(X)\n",
    "\n",
    "#gráfico\n",
    "plt.scatter(X, Y, color='red')\n",
    "plt.xlabel(\"Tempo (s)\")\n",
    "plt.ylabel(\"Velocidade (m/s)\")\n",
    "plt.title(\"Comportamento linear\")\n",
    "plt.grid()\n",
    "plt.show()\n",
    "\n",
    "#cálculos do MMQ\n",
    "XY = X * Y\n",
    "X2 = X ** 2\n",
    "\n",
    "soma_X = sum(X)\n",
    "soma_Y = sum(Y)\n",
    "soma_X_2 = soma_X ** 2\n",
    "soma_X2 = sum(X2)\n",
    "soma_XY = sum(XY)\n",
    "\n",
    "c1 = (soma_XY * n - soma_X * soma_Y) / (soma_X2 * n - soma_X ** 2)\n",
    "c2 = (soma_Y * soma_X2 - soma_X * soma_XY) / (soma_X2 * n - soma_X ** 2)\n",
    "\n",
    "print(\"Soma X:\", soma_X)\n",
    "print(\"Soma Y:\", soma_Y)\n",
    "print(\"Soma X ao quadrado:\", soma_X2)\n",
    "print(\"Soma XY:\", soma_XY)\n",
    "print(\"Constante angular (aceleração):\", c1, \"m/s²\")\n",
    "print(\"Constante linear (velocidade inicial):\", c2, \"m/s\")\n"
   ]
  },
  {
   "cell_type": "code",
   "execution_count": 13,
   "id": "ea278e66-afaa-4524-b79e-d7a7ef0cbfd4",
   "metadata": {},
   "outputs": [
    {
     "name": "stdout",
     "output_type": "stream",
     "text": [
      "Distância percorrida pelo automóvel: 151.2 m\n"
     ]
    }
   ],
   "source": [
    "def simpson(y2, h):\n",
    "    i = 0\n",
    "    area_total = 0\n",
    "    while i < len(y2):\n",
    "        if i == 0 or i == len(y2)-1:\n",
    "            area_total += y2[i]\n",
    "        elif (i % 2) == 0:\n",
    "            area_total += 2 * y2[i]\n",
    "        else:\n",
    "            area_total += 4 * y2[i]\n",
    "        i += 1\n",
    "    return area_total * h / 3\n",
    "\n",
    "X = np.array([1.0, 4.0, 7.0, 10.0, 13.0])\n",
    "Y = np.array([1.8, 7.2, 12.6, 18.0, 23.4])\n",
    "\n",
    "a = X[0]\n",
    "b = X[-1]\n",
    "n = 4  \n",
    "m = n + 1\n",
    "h = (b - a) / n\n",
    "\n",
    "resultado = simpson(Y, h)\n",
    "\n",
    "print(\"Distância percorrida pelo automóvel:\", resultado, \"m\")\n",
    "\n"
   ]
  }
 ],
 "metadata": {
  "kernelspec": {
   "display_name": "Python [conda env:base] *",
   "language": "python",
   "name": "conda-base-py"
  },
  "language_info": {
   "codemirror_mode": {
    "name": "ipython",
    "version": 3
   },
   "file_extension": ".py",
   "mimetype": "text/x-python",
   "name": "python",
   "nbconvert_exporter": "python",
   "pygments_lexer": "ipython3",
   "version": "3.12.7"
  }
 },
 "nbformat": 4,
 "nbformat_minor": 5
}
