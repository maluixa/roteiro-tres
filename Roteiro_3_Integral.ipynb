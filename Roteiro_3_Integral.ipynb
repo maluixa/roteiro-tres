{
 "cells": [
  {
   "cell_type": "code",
   "execution_count": 7,
   "id": "993a6409-8bed-48ea-b492-055bbd3fc6e2",
   "metadata": {},
   "outputs": [
    {
     "name": "stdout",
     "output_type": "stream",
     "text": [
      "O valor da integral pela regra de Simpson é: 0.17102540711736117\n"
     ]
    }
   ],
   "source": [
    "def simpson(y2, h):\n",
    "    i = 0\n",
    "    area_total = 0\n",
    "    while i < len(y2):\n",
    "        if i == 0 or i == len(y2)-1:\n",
    "            area_total += y2[i]\n",
    "        elif (i % 2) == 0:\n",
    "            area_total += 2 * y2[i]\n",
    "        else:\n",
    "            area_total += 4 * y2[i]\n",
    "        i += 1\n",
    "    area = area_total * h / 3\n",
    "    return area\n",
    "\n",
    "import numpy as np\n",
    "\n",
    "\n",
    "a = 3.0\n",
    "b = 3.6\n",
    "\n",
    "n = 5\n",
    "m = n + 1\n",
    "h = (b - a) / n\n",
    "\n",
    "xn = []\n",
    "f = a\n",
    "xn.append(f)\n",
    "for j in range(n):\n",
    "    f = f + h\n",
    "    xn.append(f)\n",
    "\n",
    "y2 = [1 / x for x in xn]\n",
    "\n",
    "resultado = simpson(y2, h)\n",
    "\n",
    "print(\"O valor da integral pela regra de Simpson é:\", resultado)\n",
    "\n",
    "\n"
   ]
  },
  {
   "cell_type": "code",
   "execution_count": 8,
   "id": "e888d962-d076-495b-8707-42606db90d45",
   "metadata": {},
   "outputs": [
    {
     "name": "stdout",
     "output_type": "stream",
     "text": [
      "O erro de truncamento estimado pela Regra de Simpson é: 2.73066666666667e-9\n"
     ]
    }
   ],
   "source": [
    "from sympy import Symbol, diff\n",
    "\n",
    "#lista com limites\n",
    "xint = np.array([a, b])\n",
    "\n",
    "xs = Symbol('x')\n",
    "fun = 1 / xs\n",
    "derivada = diff(fun, xs, 4)  \n",
    "\n",
    "max_valor = None\n",
    "for i in xint:\n",
    "    num = abs(derivada.subs(xs, i).evalf())\n",
    "    if max_valor is None or num > max_valor:\n",
    "        max_valor = num\n",
    "\n",
    "erro = (h**5 / (180 * n)) * max_valor\n",
    "\n",
    "print(\"O erro de truncamento estimado pela Regra de Simpson é:\", erro)\n"
   ]
  }
 ],
 "metadata": {
  "kernelspec": {
   "display_name": "Python [conda env:base] *",
   "language": "python",
   "name": "conda-base-py"
  },
  "language_info": {
   "codemirror_mode": {
    "name": "ipython",
    "version": 3
   },
   "file_extension": ".py",
   "mimetype": "text/x-python",
   "name": "python",
   "nbconvert_exporter": "python",
   "pygments_lexer": "ipython3",
   "version": "3.12.7"
  }
 },
 "nbformat": 4,
 "nbformat_minor": 5
}
