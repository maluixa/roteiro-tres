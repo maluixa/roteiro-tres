{
 "cells": [
  {
   "cell_type": "code",
   "execution_count": 1,
   "id": "2c12df1b-6dac-4118-ab92-32b343c975cc",
   "metadata": {},
   "outputs": [
    {
     "name": "stdout",
     "output_type": "stream",
     "text": [
      "O trabalho realizado pelo gás é: 157.0 Joules\n"
     ]
    }
   ],
   "source": [
    "def simpson(y2, h):\n",
    "    i = 0\n",
    "    area_total = 0\n",
    "    while i < len(y2):\n",
    "        if i == 0 or i == len(y2)-1:\n",
    "            area_total += y2[i]\n",
    "        elif (i % 2) == 0:\n",
    "            area_total += 2 * y2[i]\n",
    "        else:\n",
    "            area_total += 4 * y2[i]\n",
    "        i += 1\n",
    "    area = area_total * h / 3\n",
    "    return area\n",
    "\n",
    "import numpy as np\n",
    "\n",
    "#matriz de dados: volume e pressão\n",
    "X = np.array([1.5, 2.0, 2.5, 3.0, 3.5, 4.0, 4.5])  #volume (m³)\n",
    "Y = np.array([80, 72, 64, 53, 44, 31, 22])        #pressão (Pa)\n",
    "\n",
    "a = X[0]\n",
    "b = X[-1]\n",
    "\n",
    "n = 6\n",
    "m = n + 1\n",
    "\n",
    "h = (b - a) / n\n",
    "\n",
    "resultado = simpson(Y, h)\n",
    "\n",
    "print(\"O trabalho realizado pelo gás é:\", resultado, \"Joules\")\n"
   ]
  }
 ],
 "metadata": {
  "kernelspec": {
   "display_name": "Python [conda env:base] *",
   "language": "python",
   "name": "conda-base-py"
  },
  "language_info": {
   "codemirror_mode": {
    "name": "ipython",
    "version": 3
   },
   "file_extension": ".py",
   "mimetype": "text/x-python",
   "name": "python",
   "nbconvert_exporter": "python",
   "pygments_lexer": "ipython3",
   "version": "3.12.7"
  }
 },
 "nbformat": 4,
 "nbformat_minor": 5
}
