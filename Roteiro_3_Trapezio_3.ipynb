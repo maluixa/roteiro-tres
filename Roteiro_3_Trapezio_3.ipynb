{
 "cells": [
  {
   "cell_type": "code",
   "execution_count": 7,
   "id": "54ca7835-1bc8-4ec7-bd74-0bc81631b0ee",
   "metadata": {},
   "outputs": [
    {
     "name": "stdout",
     "output_type": "stream",
     "text": [
      "O erro de truncamento estimado é: 3.70370370370371e-5\n"
     ]
    }
   ],
   "source": [
    "\n",
    "import numpy as np\n",
    "from sympy import Symbol, diff\n",
    "\n",
    "a = 3.0\n",
    "b = 3.6\n",
    "n = 6\n",
    "h = (b - a) / n\n",
    "\n",
    "xint = np.array([a, b])\n",
    "\n",
    "xs = Symbol('x')\n",
    "fun = 1 / xs\n",
    "derivada = diff(fun, xs, 2)  # segunda derivada\n",
    "\n",
    "max_valor = None\n",
    "for i in xint:\n",
    "    num = abs(derivada.subs(xs, i).evalf())\n",
    "    if max_valor is None or num > max_valor:\n",
    "        max_valor = num\n",
    "\n",
    "ET = (n * h**3 / 12) * max_valor\n",
    "\n",
    "print(\"O erro de truncamento estimado é:\", ET)\n"
   ]
  }
 ],
 "metadata": {
  "kernelspec": {
   "display_name": "Python [conda env:base] *",
   "language": "python",
   "name": "conda-base-py"
  },
  "language_info": {
   "codemirror_mode": {
    "name": "ipython",
    "version": 3
   },
   "file_extension": ".py",
   "mimetype": "text/x-python",
   "name": "python",
   "nbconvert_exporter": "python",
   "pygments_lexer": "ipython3",
   "version": "3.12.7"
  }
 },
 "nbformat": 4,
 "nbformat_minor": 5
}
